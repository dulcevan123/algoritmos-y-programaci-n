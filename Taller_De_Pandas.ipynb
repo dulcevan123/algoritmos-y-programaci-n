{
  "cells": [
    {
      "cell_type": "markdown",
      "metadata": {
        "id": "qenHNw6vMlK6"
      },
      "source": [
        "#Taller Pandas: Operaciones con Pandas\n",
        "\n",
        "<img src=\"https://upload.wikimedia.org/wikipedia/commons/thumb/e/ed/Pandas_logo.svg/1200px-Pandas_logo.svg.png\" width=\"50%\" style=\"text-align:center\">\n",
        "\n",
        "---"
      ]
    },
    {
      "cell_type": "code",
      "execution_count": 23,
      "metadata": {
        "id": "WM2P_37yNGPr"
      },
      "outputs": [
        {
          "name": "stdout",
          "output_type": "stream",
          "text": [
            "<class 'pandas.core.frame.DataFrame'>\n",
            "Index: 1122 entries, 404 to 103\n",
            "Data columns (total 5 columns):\n",
            " #   Column           Non-Null Count  Dtype \n",
            "---  ------           --------------  ----- \n",
            " 0   nombre           1122 non-null   object\n",
            " 1   poblaciónUrbana  1122 non-null   int64 \n",
            " 2   poblaciónRural   1122 non-null   int64 \n",
            " 3   departamento     1122 non-null   object\n",
            " 4   esCapital        1122 non-null   int64 \n",
            "dtypes: int64(3), object(2)\n",
            "memory usage: 52.6+ KB\n"
          ]
        }
      ],
      "source": [
        "# Vamos a crear el DataFrame a partir de los datos de los municipios de Colombia\n",
        "import pandas as pd\n",
        "import math\n",
        "\n",
        "muns = pd.read_csv(\"https://raw.githubusercontent.com/BrayanTorres2/Algoritmos-y-programacion/refs/heads/main/Data/municipios.csv\", index_col=0)\n",
        "muns.info()"
      ]
    },
    {
      "cell_type": "code",
      "execution_count": 9,
      "metadata": {
        "id": "e5cxWltYQmPX"
      },
      "outputs": [
        {
          "name": "stdout",
          "output_type": "stream",
          "text": [
            "           nombre  poblaciónUrbana  poblaciónRural        departamento  \\\n",
            "código                                                                   \n",
            "404     Abejorral             6724           12471           Antioquia   \n",
            "178        Ábrego            17287           21076  Norte de Santander   \n",
            "1090     Abriaquí              738            1337           Antioquia   \n",
            "89        Acacías            60918           11130                Meta   \n",
            "705        Acandí             5259            4246               Chocó   \n",
            "\n",
            "        esCapital  \n",
            "código             \n",
            "404             0  \n",
            "178             0  \n",
            "1090            0  \n",
            "89              0  \n",
            "705             0  \n"
          ]
        }
      ],
      "source": [
        "# Presentar la información de los primeros 5 municipios del dataframe\n",
        "print(muns.head())\n"
      ]
    },
    {
      "cell_type": "code",
      "execution_count": 11,
      "metadata": {
        "id": "00f31GRCRBJL"
      },
      "outputs": [
        {
          "name": "stdout",
          "output_type": "stream",
          "text": [
            "       poblaciónUrbana  poblaciónRural    esCapital\n",
            "count     1.122000e+03     1122.000000  1122.000000\n",
            "mean      3.363703e+04    10198.901961     0.028520\n",
            "std       2.715733e+05    11719.567160     0.166529\n",
            "min       0.000000e+00      182.000000     0.000000\n",
            "25%       1.895500e+03     3697.250000     0.000000\n",
            "50%       4.995000e+03     6738.000000     0.000000\n",
            "75%       1.306500e+04    12722.000000     0.000000\n",
            "max       8.063991e+06   173143.000000     1.000000\n"
          ]
        }
      ],
      "source": [
        "# Presente la estadística descriptiva de la información del dataframe\n",
        "print(muns.describe())"
      ]
    },
    {
      "cell_type": "code",
      "execution_count": 4,
      "metadata": {
        "id": "r2puX6jFOFph"
      },
      "outputs": [
        {
          "name": "stdout",
          "output_type": "stream",
          "text": [
            "Cantidad de municipios = 1122\n"
          ]
        }
      ],
      "source": [
        "# Hallar la cantidad de municipios en el DataFrame\n",
        "num_municipios = len(muns)\n",
        "\n",
        "\n",
        "assert num_municipios == 1122\n",
        "\n",
        "print(\"Cantidad de municipios =\", num_municipios)"
      ]
    },
    {
      "cell_type": "code",
      "execution_count": 5,
      "metadata": {
        "id": "IFmPyM2eOOsl"
      },
      "outputs": [
        {
          "name": "stdout",
          "output_type": "stream",
          "text": [
            "Prueba superada 💪🏽\n"
          ]
        }
      ],
      "source": [
        "# Determinar el promedio de la población rural de todos los municipios del país\n",
        "\n",
        "prom = muns[\"poblaciónRural\"].mean()\n",
        "\n",
        "assert math.isclose(10198.901961, prom, rel_tol=1e-6)\n",
        "print(\"Prueba superada 💪🏽\")"
      ]
    },
    {
      "cell_type": "code",
      "execution_count": 6,
      "metadata": {
        "id": "0KypXfWWPq3Y"
      },
      "outputs": [
        {
          "name": "stdout",
          "output_type": "stream",
          "text": [
            "Hay 11 municipios en Amazonas\n",
            "Prueba superada 💪🏽\n"
          ]
        }
      ],
      "source": [
        "# Halle la cantidad total de municipio del departamento de Amazonas\n",
        "n = muns[muns[\"departamento\"] == \"Amazonas\"].shape[0]\n",
        "\n",
        "\n",
        "print(f\"Hay {n} municipios en Amazonas\")\n",
        "assert n == 11\n",
        "print(\"Prueba superada 💪🏽\")"
      ]
    },
    {
      "cell_type": "code",
      "execution_count": 12,
      "metadata": {
        "id": "zYt_N7cVQQs7"
      },
      "outputs": [
        {
          "name": "stdout",
          "output_type": "stream",
          "text": [
            "Prueba superada 💪🏽\n"
          ]
        }
      ],
      "source": [
        "# Escriba una función que reciba el nombre de un departamento y que retorne cuántos municipios hay\n",
        "# en el departamento con ese nombre.\n",
        "\n",
        "def municipios_departamento(muns: pd.DataFrame, nombre: str) -> int:\n",
        "    n = muns[muns[\"departamento\"] == nombre].shape[0]\n",
        "    return n\n",
        "\n",
        "# Pruebas de la función anterior\n",
        "assert municipios_departamento(muns, \"Cundinamarca\") == 117\n",
        "assert municipios_departamento(muns, \"Boyacá\") == 123\n",
        "assert municipios_departamento(muns, \"Vichada\") == 4\n",
        "print(\"Prueba superada 💪🏽\")"
      ]
    },
    {
      "cell_type": "code",
      "execution_count": 13,
      "metadata": {
        "id": "HtjzXj3uRE_G"
      },
      "outputs": [
        {
          "name": "stdout",
          "output_type": "stream",
          "text": [
            "Prueba superada 💪🏽\n"
          ]
        }
      ],
      "source": [
        "# Escriba una expresión que permita encontrar los nombres de los municipios que tienen\n",
        "# menos de 500 habitantes en la población rural\n",
        "m = muns[muns[\"poblaciónRural\"] < 500][\"nombre\"]\n",
        "\n",
        "# Prueba\n",
        "assert m.sort_values().to_list() == ['La Guadalupe', 'Santa Lucía', 'Soplaviento', 'Suan']\n",
        "print(\"Prueba superada 💪🏽\")"
      ]
    },
    {
      "cell_type": "code",
      "execution_count": 14,
      "metadata": {
        "id": "zjcXOdWyA8-5"
      },
      "outputs": [
        {
          "name": "stdout",
          "output_type": "stream",
          "text": [
            "Prueba superada 💪🏽\n"
          ]
        }
      ],
      "source": [
        "# Cual es la suma total de la poblacion rural de todos los municipios\n",
        "pob_urb = muns[\"poblaciónUrbana\"].sum()\n",
        " \n",
        "# Prueba\n",
        "assert pob_urb == 37_740_751\n",
        "print(\"Prueba superada 💪🏽\")"
      ]
    },
    {
      "cell_type": "code",
      "execution_count": 15,
      "metadata": {
        "id": "d6Pt4uzlCqBT"
      },
      "outputs": [
        {
          "name": "stdout",
          "output_type": "stream",
          "text": [
            "Prueba superada 💪🏽\n"
          ]
        }
      ],
      "source": [
        "# Hallar la suma de la población urbana de los municipios de los departamentos\n",
        "# del eje cafetero: Caldas, Quindio o Risaralda\n",
        "pob_eje_cafetero = muns[muns[\"departamento\"].isin([\"Caldas\", \"Quindio\", \"Risaralda\"])][\"poblaciónUrbana\"].sum()\n",
        "\n",
        "# Prueba\n",
        "assert pob_eje_cafetero == 1_471_055\n",
        "print(\"Prueba superada 💪🏽\")"
      ]
    },
    {
      "cell_type": "code",
      "execution_count": 16,
      "metadata": {
        "id": "8hsf6HZ-THGp"
      },
      "outputs": [
        {
          "name": "stdout",
          "output_type": "stream",
          "text": [
            "La capital de Casanare es Yopal\n"
          ]
        }
      ],
      "source": [
        "# Encontrar el nombre del municipio que es la capital (esCapital == 1) del departamento de Casanare\n",
        "capital_casanare = muns[(muns[\"esCapital\"] == 1) & (muns[\"departamento\"] == \"Casanare\")][\"nombre\"].values[0]\n",
        "\n",
        "print(f\"La capital de Casanare es {capital_casanare}\")\n"
      ]
    },
    {
      "cell_type": "code",
      "execution_count": 17,
      "metadata": {
        "id": "8HR_nr40EtHe"
      },
      "outputs": [
        {
          "name": "stdout",
          "output_type": "stream",
          "text": [
            "Prueba superada 💪🏽\n"
          ]
        }
      ],
      "source": [
        "# Encontrar cuantos municipios tienen una población urbana inferior al promedio\n",
        "# de la población urbama de todo el pais\n",
        "prom_poblacion_urbana = muns[\"poblaciónUrbana\"].mean()\n",
        "cant_muns_pobl_inf_prom = len(muns[muns[\"poblaciónUrbana\"] < prom_poblacion_urbana])\n",
        "\n",
        "# Prueba\n",
        "assert cant_muns_pobl_inf_prom == 998\n",
        "print(\"Prueba superada 💪🏽\")"
      ]
    },
    {
      "cell_type": "code",
      "execution_count": 18,
      "metadata": {
        "id": "-Wz3v-gs7FFn"
      },
      "outputs": [
        {
          "name": "stdout",
          "output_type": "stream",
          "text": [
            "              nombre  poblaciónUrbana\n",
            "código                               \n",
            "4       Barranquilla          1224374\n",
            "3               Cali          2383392\n",
            "2           Medellín          2479990\n"
          ]
        }
      ],
      "source": [
        "# Presentar el nombre y problación urbana de los municipios cuya población urbana esté entre el millón y los tres millones\n",
        "# de habitantes.\n",
        "muns_filtrados = muns[(muns[\"poblaciónUrbana\"] >= 1_000_000) & (muns[\"poblaciónUrbana\"] <= 3_000_000)][[\"nombre\", \"poblaciónUrbana\"]]\n",
        "print(muns_filtrados)"
      ]
    },
    {
      "cell_type": "code",
      "execution_count": 19,
      "metadata": {
        "id": "ja3JFZ2NV3uR"
      },
      "outputs": [
        {
          "name": "stdout",
          "output_type": "stream",
          "text": [
            "               nombre  poblaciónUrbana  poblaciónRural        departamento  \\\n",
            "código                                                                       \n",
            "404         Abejorral             6724           12471           Antioquia   \n",
            "178            Ábrego            17287           21076  Norte de Santander   \n",
            "1090         Abriaquí              738            1337           Antioquia   \n",
            "215           Acevedo             6515           27098               Huila   \n",
            "323              Achí             4193           19258             Bolívar   \n",
            "...               ...              ...             ...                 ...   \n",
            "744           Zapayán             3649            5192           Magdalena   \n",
            "240          Zaragoza            14137           16992           Antioquia   \n",
            "971         Zetaquira             1057            3432              Boyacá   \n",
            "895           Zipacón             2119            3512        Cundinamarca   \n",
            "103     Zona Bananera             5063           56309           Magdalena   \n",
            "\n",
            "        esCapital  \n",
            "código             \n",
            "404             0  \n",
            "178             0  \n",
            "1090            0  \n",
            "215             0  \n",
            "323             0  \n",
            "...           ...  \n",
            "744             0  \n",
            "240             0  \n",
            "971             0  \n",
            "895             0  \n",
            "103             0  \n",
            "\n",
            "[705 rows x 5 columns]\n"
          ]
        }
      ],
      "source": [
        "# Presentar toda la información de aquellos municipios donde la población rural supere a la población urbana\n",
        "muns_rural_urbana = muns[muns[\"poblaciónRural\"] > muns[\"poblaciónUrbana\"]]\n",
        "print(muns_rural_urbana)\n"
      ]
    },
    {
      "cell_type": "code",
      "execution_count": 20,
      "metadata": {
        "id": "VlKO9x3a7GYe"
      },
      "outputs": [
        {
          "name": "stdout",
          "output_type": "stream",
          "text": [
            "Hay 32 capitales en el dataframe\n"
          ]
        }
      ],
      "source": [
        "# Cuantas capitales hay en el dataframe\n",
        "num_capitales = len(muns[muns[\"esCapital\"] == 1])\n",
        "\n",
        "print(f\"Hay {num_capitales} capitales en el dataframe\")"
      ]
    },
    {
      "cell_type": "code",
      "execution_count": 21,
      "metadata": {
        "id": "6J_GRk6S7_ve"
      },
      "outputs": [
        {
          "name": "stdout",
          "output_type": "stream",
          "text": [
            "Hay 8 capitales con población inferior a 100 mil habitantes\n"
          ]
        }
      ],
      "source": [
        "# Determinar cuántos capitales tiene una población inferior a los 100 mil habitantes\n",
        "num_capitales_pob_inf_100k = len(muns[(muns[\"esCapital\"] == 1) & (muns[\"poblaciónUrbana\"] < 100000)])\n",
        "\n",
        "print(f\"Hay {num_capitales_pob_inf_100k} capitales con población inferior a 100 mil habitantes\")"
      ]
    }
  ],
  "metadata": {
    "colab": {
      "provenance": []
    },
    "kernelspec": {
      "display_name": "Python 3",
      "name": "python3"
    },
    "language_info": {
      "codemirror_mode": {
        "name": "ipython",
        "version": 3
      },
      "file_extension": ".py",
      "mimetype": "text/x-python",
      "name": "python",
      "nbconvert_exporter": "python",
      "pygments_lexer": "ipython3",
      "version": "3.13.3"
    }
  },
  "nbformat": 4,
  "nbformat_minor": 0
}
