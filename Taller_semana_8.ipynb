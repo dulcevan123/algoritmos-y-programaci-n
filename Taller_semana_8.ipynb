{
  "cells": [
    {
      "cell_type": "markdown",
      "metadata": {
        "id": "QZ6XziVD76Jw"
      },
      "source": [
        "<h1 align=\"center\">Taller - Instrucciones repetitivas en Python</h1>\n",
        "\n",
        "Desarrolle la solucion a los siguientes problemas en Python, usando funciones y el programa correspondiente\n",
        "\n",
        "---"
      ]
    },
    {
      "cell_type": "markdown",
      "metadata": {
        "id": "uJJp2xk076J1"
      },
      "source": [
        "## Ejercicio 01\n",
        "\n",
        "Una librería ofrece dos tipos de descuentos ante la compra de un libro. Si el libro tiene un precio inferior a cien mil pesos, el descuento es del 12% del precio; pero en cualquier otro caso, el descuento asciende a un 18%.\n",
        "\n",
        "* Escriba una función que halle el precio neto de un libro (precio menos descuento) de un libro, dado el precio del libro.\n",
        "* Ahora, escriba un programa que permita leer el precio de varios libros (finalizar cuando el precio es cero o negativo) y mostrar para cada libro, el precio neto (usando la función desarrollada anteriormente)"
      ]
    },
    {
      "cell_type": "code",
      "execution_count": null,
      "metadata": {
        "id": "58mamZV176J2"
      },
      "outputs": [],
      "source": [
        "# Definición de la función\n",
        "def hallar_precio_neto(precio_libro:float)->float:\n",
        "  if(precio_libro<100_000):\n",
        "    precio_neto=precio_libro-(precio_libro*0.12)\n",
        "  else:\n",
        "    precio_neto=precio_libro-(precio_libro*0.18)\n",
        "  return precio_neto\n",
        "\n",
        "\n",
        "# Programa principal\n",
        "precio_libro=float(input(\"ingrese precio del libro: \"))\n",
        "while precio_libro>0:\n",
        "  precio_neto= hallar_precio_neto(precio_libro)\n",
        "  print(\"el precio neto es: \",precio_neto)\n",
        "  precio_libro=float(input(\"ingrese precio del libro: \"))"
      ]
    },
    {
      "cell_type": "markdown",
      "metadata": {
        "id": "jF4Qm9FE76J3"
      },
      "source": [
        "---"
      ]
    },
    {
      "cell_type": "markdown",
      "metadata": {
        "id": "weyR_q0d76J4"
      },
      "source": [
        "## Ejercicio 02\n",
        "\n",
        "Un vendedor recibe una comisión por el volumen de ventas que realice. Las reglas para asignarle la comisión al vendedor son las siguientes:\n",
        "\n",
        "Ventas | Comisión\n",
        "---|---\n",
        "Inferior a 50 mil pesos | 7% de las ventas\n",
        "Entre 50 mil y 100 mil pesos | 9% de las ventas más 5 mil pesos\n",
        "Entre 100 mil y 200 mil pesos | 11% de las ventas más 10 mil pesos\n",
        "Entre 200 mil y 500 mil pesos | 13% de las ventas más 20 mil pesos\n",
        "Más de 500 mil pesos | 15% de las ventas más 40 mil pesos\n",
        "\n",
        "* Escriba una función que recibe el valor de las ventas de un vendedor y que retorne la comisión\n",
        "* Escriba un programa que lea el valor de ventas de varios vendedores de la empresa (finalizar cuando las ventas sean negativas), y usando la función anterior, calcule la comisión y la imprima por pantalla."
      ]
    },
    {
      "cell_type": "markdown",
      "metadata": {
        "id": "MJgjten7RJpv"
      },
      "source": []
    },
    {
      "cell_type": "code",
      "execution_count": 6,
      "metadata": {
        "colab": {
          "base_uri": "https://localhost:8080/"
        },
        "id": "kMitVJVW76J4",
        "outputId": "677b044b-9940-4d62-8e5b-ee205701db84"
      },
      "outputs": [
        {
          "name": "stdout",
          "output_type": "stream",
          "text": [
            "Ingrese el monto de ventas (ingrese un número negativo para finalizar): -2\n"
          ]
        }
      ],
      "source": [
        "# Definicion de la funcion\n",
        "def calcular_comision(ventas:float)->float:\n",
        "    if ventas < 50000:\n",
        "        comision = ventas * 0.07\n",
        "    elif ventas < 100000:\n",
        "        comision = ventas * 0.09 + 5000\n",
        "    elif ventas < 200000:\n",
        "        comision = ventas * 0.11 + 10000\n",
        "    elif ventas < 500000:\n",
        "        comision = ventas * 0.13 + 20000\n",
        "    else:\n",
        "        comision = ventas * 0.15 + 40000\n",
        "\n",
        "    return comision\n",
        "\n",
        "\n",
        "# Programa principal\n",
        "while True:\n",
        "    ventas = float(input(\"Ingrese el monto de ventas (ingrese un número negativo para finalizar): \"))\n",
        "    if ventas < 0:\n",
        "        break\n",
        "    print(f\"La comisión es: {calcular_comision(ventas):.2f} pesos\")"
      ]
    },
    {
      "cell_type": "markdown",
      "metadata": {
        "id": "YWyFJrR876J4"
      },
      "source": [
        "---\n"
      ]
    },
    {
      "cell_type": "markdown",
      "metadata": {
        "id": "2IHUrLVh76J5"
      },
      "source": [
        "## Ejercicio 03\n",
        "\n",
        "Una empresa ofrece a sus empleados un salario mensual fijo, y un porcertaje de las ventas como una comisión adicional a ese salario mensual. Esta comisión se calcula de la siguiente manera: si las ventas de un empleado excede los 50 mil pesoso, la comisión será de un 12% de las ventas que están por encima de los 50 mil pesos, en otro caso no habrá comisión.\n",
        "\n",
        "* Primero, construya una función en la que dado las ventas que hizo el empleado, determine cuánto es la comisión\n",
        "* Ahora hay que hacer un programa que calcule y muestre los salarios y comisiones de todos los empleados de la empresa. Para cada empleado hay que preguntarle al usuario, el salario mensual y las ventas realizadas, y mostrar la comisión por las ventas (usando la función anterior) y el salario neto (salario más comisión). Como no sabemos cuántos empleados hay, después de mostrar esta información, debemos preguntarle al usuario si desea seguir o no."
      ]
    },
    {
      "cell_type": "code",
      "execution_count": 19,
      "metadata": {
        "id": "aTuMvKmw76J5",
        "colab": {
          "base_uri": "https://localhost:8080/"
        },
        "outputId": "b162d25f-f157-49ce-dd7f-53ab89662c88"
      },
      "outputs": [
        {
          "name": "stdout",
          "output_type": "stream",
          "text": [
            "Ingrese el salario fijo del empleado: 1200000\n",
            "Ingrese las ventas realizadas por el empleado: 60\n",
            "Comisión generada: 0.00 pesos\n",
            "Salario neto del empleado: 1200000.00 pesos\n",
            "¿Desea ingresar otro empleado? (s/n): n\n"
          ]
        }
      ],
      "source": [
        "# Definición de la función\n",
        "def calcular_comisiones(salario_fijo:float,ventas:float)->(float,float):\n",
        "  if(ventas>=50_000):\n",
        "    comisiones=ventas*0.12\n",
        "    salario_neto=salario_fijo+comision\n",
        "  else:\n",
        "    comision=0\n",
        "    salario_neto=salario_fijo+comision\n",
        "  return comision,salario_neto\n",
        "\n",
        "# Programa principal\n",
        "\n",
        "continuar = True\n",
        "\n",
        "while continuar:\n",
        "   salario_fijo = float(input(\"Ingrese el salario fijo del empleado: \"))\n",
        "   ventas = float(input(\"Ingrese las ventas realizadas por el empleado: \"))\n",
        "   comision, salario_neto = calcular_comisiones(salario_fijo, ventas)\n",
        "   print(f\"Comisión generada: {comision:.2f} pesos\")\n",
        "   print(f\"Salario neto del empleado: {salario_neto:.2f} pesos\")\n",
        "   respuesta = input(\"¿Desea ingresar otro empleado? (s/n): \").lower()\n",
        "   if respuesta != 's':\n",
        "        continuar = False"
      ]
    },
    {
      "cell_type": "markdown",
      "metadata": {
        "id": "6M93ZEZh76J5"
      },
      "source": [
        "---"
      ]
    },
    {
      "cell_type": "markdown",
      "metadata": {
        "id": "ge6TBY0P76J6"
      },
      "source": [
        "## Ejercicio 04\n",
        "\n",
        "En una empresa se le paga a los trabajadores al final de cada semana de acuerdo a las reglas dadas a continuación:\n",
        "\n",
        "* Si trabajas 35 horas o menos, se le paga un valor de 15 mil pesos la hora;\n",
        "* Si trabaja más de 35 horas pero menos de 60, el valor de la hora es de 15 mil por las primeras 35 horas y de 18 mil por cada hora trabajada por encima de las 35\n",
        "* Si trabaja más de 60 horas, las primeras 35 se pagan a 15 mil, las siguiente 25 horas a 18 mil cada una y las horas horas trabajadas por encima de las 60 horas, se le paga a 25 mil pesos cada una.\n",
        "\n",
        "Vamos a buscar imprimir el salario semanal de cada uno de los empleados de la empresa. Para ello:\n",
        "\n",
        "* Escriba una función que reciba el número de horas trabajadas por un empleado y retorne el salario\n",
        "* Un programa que le pregunte al usuario el número de empleados que trabajan en la empresa, y para cada uno de esos, pregunte el número de horas trabajadas en la semana, y usando la función anterior, imprima el salario mensual de ese empleado."
      ]
    },
    {
      "cell_type": "code",
      "execution_count": 14,
      "metadata": {
        "colab": {
          "base_uri": "https://localhost:8080/"
        },
        "id": "o8NultX076J6",
        "outputId": "11e1636c-4f0d-4bc8-e8ae-be43b463b08c"
      },
      "outputs": [
        {
          "output_type": "stream",
          "name": "stdout",
          "text": [
            "Ingrese el número de horas trabajadas por el empleado 1: 45\n",
            "El salario semanal del empleado 1 es: 705000 pesos\n",
            "El salario mensual del empleado 1 es: 2820000 pesos\n",
            "Ingrese el número de horas trabajadas por el empleado 2: 10\n",
            "El salario semanal del empleado 2 es: 150000 pesos\n",
            "El salario mensual del empleado 2 es: 600000 pesos\n",
            "Ingrese el número de horas trabajadas por el empleado 3: 8\n",
            "El salario semanal del empleado 3 es: 120000 pesos\n",
            "El salario mensual del empleado 3 es: 480000 pesos\n",
            "Ingrese el número de horas trabajadas por el empleado 4: -2\n",
            "El salario semanal del empleado 4 es: -30000 pesos\n",
            "El salario mensual del empleado 4 es: -120000 pesos\n",
            "Ingrese el número de horas trabajadas por el empleado 5: 0\n",
            "El salario semanal del empleado 5 es: 0 pesos\n",
            "El salario mensual del empleado 5 es: 0 pesos\n"
          ]
        }
      ],
      "source": [
        "# Definición de la función\n",
        "def calcular_salario(horas:int)->int:\n",
        "    if horas <= 35:\n",
        "        return horas * 15000\n",
        "    elif horas <= 60:\n",
        "        return (35 * 15000) + ((horas - 35) * 18000)\n",
        "    else:\n",
        "        return (35 * 15000) + (25 * 18000) + ((horas - 60) * 25000)\n",
        "# Programa principal\n",
        "for i in range(numero_empleados):\n",
        "    horas_trabajadas = int(input(f\"Ingrese el número de horas trabajadas por el empleado {i+1}: \"))\n",
        "    salario_semanal = calcular_salario(horas_trabajadas)\n",
        "    salario_mensual = salario_semanal * 4\n",
        "    print(f\"El salario semanal del empleado {i+1} es: {salario_semanal} pesos\")\n",
        "    print(f\"El salario mensual del empleado {i+1} es: {salario_mensual} pesos\")"
      ]
    }
  ],
  "metadata": {
    "colab": {
      "provenance": []
    },
    "kernelspec": {
      "display_name": "Python 3",
      "language": "python",
      "name": "python3"
    },
    "language_info": {
      "codemirror_mode": {
        "name": "ipython",
        "version": 3
      },
      "file_extension": ".py",
      "mimetype": "text/x-python",
      "name": "python",
      "nbconvert_exporter": "python",
      "pygments_lexer": "ipython3",
      "version": "3.7.7"
    }
  },
  "nbformat": 4,
  "nbformat_minor": 0
}